{
 "cells": [
  {
   "cell_type": "markdown",
   "metadata": {},
   "source": [
    "**Recuerde no agregar o quitar celdas en este notebook, ni modificar su tipo. Si lo hace, el sistema automaticamente lo calificará con cero punto cero (0.0)**"
   ]
  },
  {
   "cell_type": "markdown",
   "metadata": {},
   "source": [
    "Use el siguiente conjunto de datos para resolver los problemas propuestos. Use [gradetool](gradetool.md) para verificar las respuestas del notebook."
   ]
  },
  {
   "cell_type": "code",
   "execution_count": 1,
   "metadata": {},
   "outputs": [
    {
     "name": "stdout",
     "output_type": "stream",
     "text": [
      "Overwriting data.tsv\n"
     ]
    }
   ],
   "source": [
    "%%writefile data.tsv\n",
    "E\t{(b),(g),(f)}\t[jjj#3,bbb#0,ddd#9,ggg#8,hhh#2]\n",
    "A\t{(a),(f),(c)}\t[ccc#2,ddd#0,aaa#3,hhh#9]\n",
    "B\t{(f),(e),(a),(c)}\t[ddd#2,ggg#5,ccc#6,jjj#1]\n",
    "A\t{(a),(b)}\t[hhh#9,iii#5,eee#7,bbb#1]\n",
    "C\t{(f),(g),(d),(a)}\t[iii#6,ddd#5,eee#4,jjj#3]\n",
    "A\t{(c),(d)}\t[bbb#2,hhh#0,ccc#4,fff#1,aaa#7]\n",
    "A\t{(g),(d),(a)}\t[aaa#5,fff#8,ddd#2,iii#0,jjj#7,ccc#1]\n",
    "B\t{(b),(a)}\t[fff#3,hhh#1,ddd#2]\n",
    "E\t{(d),(e),(a),(f)}\t[eee#4,ccc#5,iii#9,fff#7,ggg#6,bbb#0]\n",
    "B\t{(d),(b),(g),(f)}\t[bbb#7,jjj#9,fff#5,iii#4,ggg#2,eee#3]\n",
    "C\t{(d),(c),(f),(b)}\t[hhh#6,eee#4,iii#0,fff#2,jjj#1]\n",
    "C\t{(d),(e),(a),(c)}\t[bbb#7,iii#6,ggg#9]\n",
    "D\t{(g),(e),(f),(b)}\t[bbb#9,aaa#3,ccc#6,fff#4,eee#2]\n",
    "E\t{(c),(f)}\t[aaa#8,ddd#5,jjj#1]\n",
    "B\t{(d),(b)}\t[ccc#0,jjj#6,fff#7,ddd#3,aaa#2]\n",
    "D\t{(f),(e)}\t[ccc#0,eee#6,bbb#9,ddd#3]\n",
    "E\t{(e),(b),(f)}\t[bbb#6,iii#3,hhh#5,fff#4,ggg#9,ddd#2]\n",
    "D\t{(g),(a)}\t[hhh#4,jjj#5,ccc#9]\n",
    "E\t{(e),(c),(f),(a)}\t[ccc#1,iii#6,fff#9]\n",
    "E\t{(e),(a)}\t[bbb#9,aaa#3,fff#1]\n",
    "E\t{(e),(f)}\t[ddd#9,iii#2,aaa#4]\n",
    "E\t{(c),(b),(g)}\t[ccc#5,fff#8,iii#7]\n",
    "D\t{(c),(f),(a)}\t[eee#3,jjj#2,ddd#7]\n",
    "A\t{(f),(a),(d)}\t[jjj#1,ggg#0,ccc#7,ddd#9,bbb#3]\n",
    "E\t{(c),(d)}\t[jjj#6,ccc#0,aaa#1,hhh#9,iii#7,ggg#8]\n",
    "E\t{(e),(d),(c)}\t[fff#3,eee#6,iii#4,bbb#7,ddd#0,ccc#1]\n",
    "A\t{(a),(e),(f)}\t[fff#0,ddd#5,ccc#4]\n",
    "E\t{(c),(a),(g)}\t[ggg#6,hhh#3,ddd#9,ccc#0,jjj#7]\n",
    "A\t{(f),(e)}\t[hhh#6,jjj#0,eee#5,iii#7,ccc#3]\n",
    "C\t{(f),(c),(a),(g)}\t[eee#1,fff#4,aaa#2,ccc#7,ggg#0,ddd#6]\n",
    "A\t{(b),(f)}\t[ccc#6,aaa#9,eee#5,ddd#0,bbb#3]\n",
    "D\t{(b),(f)}\t[bbb#7,hhh#1,aaa#6,iii#4,fff#9,ddd#5]\n",
    "E\t{(a),(c)}\t[fff#3,ccc#1,ggg#2,eee#5]\n",
    "B\t{(b),(f),(c)}\t[iii#7,ggg#3,ddd#0,jjj#8,hhh#5,ccc#1]\n",
    "B\t{(f),(a),(e)}\t[hhh#6,ccc#3,jjj#0,bbb#8,ddd#7]\n",
    "D\t{(a),(f)}\t[aaa#0,fff#5,ddd#3]\n",
    "B\t{(c),(a)}\t[ddd#5,jjj#2,iii#7,ccc#0,bbb#4]\n",
    "C\t{(c),(a),(e),(f)}\t[eee#0,fff#2,hhh#6]\n",
    "E\t{(e),(d)}\t[fff#9,iii#2,eee#0]\n",
    "E\t{(f),(a),(d)}\t[hhh#8,ggg#3,jjj#5]"
   ]
  },
  {
   "cell_type": "code",
   "execution_count": 1,
   "metadata": {},
   "outputs": [],
   "source": [
    "%load_ext bigdata\n",
    "%pig_init"
   ]
  },
  {
   "cell_type": "markdown",
   "metadata": {},
   "source": [
    "# Problema 1\n",
    "\n",
    "Calcule la cantidad de registros por clave de la columna 3. En otras palabras, cuántos registros hay que tengan la clave `aaa`?"
   ]
  },
  {
   "cell_type": "code",
   "execution_count": 44,
   "metadata": {},
   "outputs": [
    {
     "name": "stdout",
     "output_type": "stream",
     "text": [
      "(aaa,13)\n",
      "(bbb,16)\n",
      "(ccc,23)\n",
      "(ddd,23)\n",
      "(eee,15)\n",
      "(fff,20)\n",
      "(ggg,13)\n",
      "(hhh,16)\n",
      "(iii,18)\n",
      "(jjj,18)\n"
     ]
    }
   ],
   "source": [
    "%%pig\n",
    "data = LOAD 'data.tsv' AS (f1: CHARARRAY, \n",
    "                           f2: BAG{},\n",
    "                           f3: MAP[]);\n",
    "keyValueTuples = FOREACH data GENERATE FLATTEN(f3) AS (key: CHARARRAY, \n",
    "                                                       value: INT);\n",
    "-- \n",
    "-- (bbb,0)\n",
    "-- (ddd,9)\n",
    "-- (ggg,8)\n",
    "-- (hhh,2)\n",
    "-- \n",
    "\n",
    "groupedByKeys = GROUP keyValueTuples BY key;\n",
    "-- \n",
    "-- (aaa,{(aaa,6),(aaa,0),(aaa,7),(aaa,5),(aaa,3),(aaa,8),(aaa,2),\n",
    "--       (aaa,3),(aaa,4),(aaa,1),(aaa,2),(aaa,9),(aaa,3)})\n",
    "-- (bbb,{(bbb,0),(bbb,4),(bbb,8),(bbb,7),(bbb,3),(bbb,7),(bbb,3),\n",
    "--       (bbb,9),(bbb,6),(bbb,9),(bbb,9),(bbb,7),(bbb,7),(bbb,0),\n",
    "--       (bbb,2),(bbb,1)})\n",
    "-- (ccc,{(ccc,3),(ccc,2),(ccc,0),(ccc,1),(ccc,9),(ccc,6),(ccc,1),\n",
    "--       (ccc,7),(ccc,4),(ccc,3),(ccc,1),(ccc,0),(ccc,1),(ccc,4),\n",
    "--       (ccc,1),(ccc,5),(ccc,0),(ccc,6),(ccc,6),(ccc,7),(ccc,0),\n",
    "--       (ccc,5),(ccc,0)})\n",
    "--\n",
    "-- \n",
    "-- grunt> describe groupedByKeys;\n",
    "-- groupedByKeys: {group: chararray,keyValueTuples: {(key: chararray,\n",
    "--                                                    value: int)}}\n",
    "-- \n",
    "\n",
    "result1 = FOREACH groupedByKeys GENERATE $0, COUNT($1);\n",
    "--\n",
    "-- (aaa,13)\n",
    "-- (bbb,16)\n",
    "-- (ccc,23)\n",
    "-- (ddd,23)\n",
    "-- (eee,15)\n",
    "-- (fff,20)\n",
    "-- (ggg,13)\n",
    "-- (hhh,16)\n",
    "-- (iii,18)\n",
    "-- (jjj,18)\n",
    "-- \n",
    "DUMP result1;\n",
    "\n"
   ]
  },
  {
   "cell_type": "markdown",
   "metadata": {},
   "source": [
    "# Problema 2\n",
    "\n",
    "Genere una tabla que contenga la primera columna, la cantidad de elementos en la columna 2 y la cantidad de elementos en la columna 3"
   ]
  },
  {
   "cell_type": "code",
   "execution_count": 23,
   "metadata": {},
   "outputs": [
    {
     "name": "stdout",
     "output_type": "stream",
     "text": [
      "(E,3,5)\n",
      "(A,3,4)\n",
      "(B,4,4)\n",
      "(A,2,4)\n",
      "(C,4,4)\n",
      "(A,2,5)\n",
      "(A,3,6)\n",
      "(B,2,3)\n",
      "(E,4,6)\n",
      "(B,4,6)\n",
      "(C,4,5)\n",
      "(C,4,3)\n",
      "(D,4,5)\n",
      "(E,2,3)\n",
      "(B,2,5)\n",
      "(D,2,4)\n",
      "(E,3,6)\n",
      "(D,2,3)\n",
      "(E,4,3)\n",
      "(E,2,3)\n",
      "(E,2,3)\n",
      "(E,3,3)\n",
      "(D,3,3)\n",
      "(A,3,5)\n",
      "(E,2,6)\n",
      "(E,3,6)\n",
      "(A,3,3)\n",
      "(E,3,5)\n",
      "(A,2,5)\n",
      "(C,4,6)\n",
      "(A,2,5)\n",
      "(D,2,6)\n",
      "(E,2,4)\n",
      "(B,3,6)\n",
      "(B,3,5)\n",
      "(D,2,3)\n",
      "(B,2,5)\n",
      "(C,4,3)\n",
      "(E,2,3)\n",
      "(E,3,3)\n"
     ]
    }
   ],
   "source": [
    "%%pig\n",
    "data = LOAD 'data.tsv' AS (f1: CHARARRAY, f2: BAG{}, f3: MAP[]);\n",
    "result2 = FOREACH data GENERATE f1, SIZE(f2), SIZE(f3); DUMP result2;"
   ]
  },
  {
   "cell_type": "markdown",
   "metadata": {},
   "source": [
    "# Problema 3\n",
    "\n",
    "Compute la cantidad de registros por letra de la columna 2 y clave de al columna 3; esto es, por ejemplo, la cantidad de registros en tienen la letra `b` en la columna 2 y la clave `jjj` en la columna 3 es:\n",
    "\n",
    "     ((b,jjj), 216)"
   ]
  },
  {
   "cell_type": "code",
   "execution_count": 50,
   "metadata": {},
   "outputs": [
    {
     "name": "stdout",
     "output_type": "stream",
     "text": [
      "((a,aaa),5)\n",
      "((a,bbb),7)\n",
      "((a,ccc),13)\n",
      "((a,ddd),13)\n",
      "((a,eee),7)\n",
      "((a,fff),10)\n",
      "((a,ggg),8)\n",
      "((a,hhh),8)\n",
      "((a,iii),7)\n",
      "((a,jjj),10)\n",
      "((b,aaa),4)\n",
      "((b,bbb),7)\n",
      "((b,ccc),5)\n",
      "((b,ddd),7)\n",
      "((b,eee),5)\n",
      "((b,fff),8)\n",
      "((b,ggg),4)\n",
      "((b,hhh),7)\n",
      "((b,iii),7)\n",
      "((b,jjj),5)\n",
      "((c,aaa),5)\n",
      "((c,bbb),4)\n",
      "((c,ccc),12)\n",
      "((c,ddd),9)\n",
      "((c,eee),6)\n",
      "((c,fff),8)\n",
      "((c,ggg),7)\n",
      "((c,hhh),7)\n",
      "((c,iii),8)\n",
      "((c,jjj),8)\n",
      "((d,aaa),4)\n",
      "((d,bbb),6)\n",
      "((d,ccc),7)\n",
      "((d,ddd),5)\n",
      "((d,eee),6)\n",
      "((d,fff),8)\n",
      "((d,ggg),6)\n",
      "((d,hhh),4)\n",
      "((d,iii),9)\n",
      "((d,jjj),8)\n",
      "((e,aaa),3)\n",
      "((e,bbb),8)\n",
      "((e,ccc),9)\n",
      "((e,ddd),7)\n",
      "((e,eee),7)\n",
      "((e,fff),9)\n",
      "((e,ggg),4)\n",
      "((e,hhh),4)\n",
      "((e,iii),8)\n",
      "((e,jjj),3)\n",
      "((f,aaa),8)\n",
      "((f,bbb),10)\n",
      "((f,ccc),13)\n",
      "((f,ddd),17)\n",
      "((f,eee),11)\n",
      "((f,fff),11)\n",
      "((f,ggg),9)\n",
      "((f,hhh),10)\n",
      "((f,iii),10)\n",
      "((f,jjj),12)\n",
      "((g,aaa),3)\n",
      "((g,bbb),3)\n",
      "((g,ccc),6)\n",
      "((g,ddd),5)\n",
      "((g,eee),4)\n",
      "((g,fff),5)\n",
      "((g,ggg),4)\n",
      "((g,hhh),3)\n",
      "((g,iii),4)\n",
      "((g,jjj),6)\n"
     ]
    }
   ],
   "source": [
    "%%pig\n",
    "data = LOAD 'data.tsv' AS (f1: CHARARRAY, f2: BAG{}, f3: MAP[]);\n",
    "splitValues = FOREACH data GENERATE FLATTEN(f2), FLATTEN(f3);\n",
    "-- (b,bbb,0)\n",
    "-- (b,ddd,9)\n",
    "-- (b,ggg,8)\n",
    "-- (b,hhh,2)\n",
    "-- (b,jjj,3)\n",
    "-- ...\n",
    "\n",
    "withoutInt = FOREACH splitValues GENERATE ($0, $1) AS \n",
    "             TUPLE(f1:CHARARRAY, f2:CHARARRAY);\n",
    "-- ((b,bbb))\n",
    "-- ((b,ddd))\n",
    "-- ((b,ggg))\n",
    "-- ((b,hhh))\n",
    "-- ((b,jjj))\n",
    "-- ((g,bbb))\n",
    "-- ((g,ddd))\n",
    "-- ((g,ggg))\n",
    "-- ((g,hhh))\n",
    "-- ((g,jjj))\n",
    "-- ((f,bbb))\n",
    "-- ...\n",
    "\n",
    "grouped = GROUP withoutInt BY $0;\n",
    "-- ((a,aaa),{((a,aaa)),((a,aaa)),((a,aaa)),((a,aaa)),((a,aaa))})\n",
    "-- ((a,bbb),{((a,bbb)),((a,bbb)),((a,bbb)),((a,bbb)),((a,bbb)),\n",
    "--           ((a,bbb)),((a,bbb))})\n",
    "-- ((a,ccc),{((a,ccc)),((a,ccc)),((a,ccc)),((a,ccc)),((a,ccc)),\n",
    "--           ((a,ccc)),((a,ccc)),((a,ccc)),((a,ccc)),((a,ccc)),\n",
    "--           ((a,ccc)),((a,ccc)),((a,ccc))})\n",
    "\n",
    "result3 = FOREACH grouped GENERATE $0, COUNT($1);\n",
    "-- ((a,aaa),5)\n",
    "-- ((a,bbb),7)\n",
    "-- ((a,ccc),13)\n",
    "-- ((a,ddd),13)\n",
    "-- ((a,eee),7)\n",
    "-- ((a,fff),10)\n",
    "\n",
    "DUMP result3;"
   ]
  },
  {
   "cell_type": "markdown",
   "metadata": {},
   "source": [
    "---"
   ]
  },
  {
   "cell_type": "code",
   "execution_count": null,
   "metadata": {},
   "outputs": [],
   "source": [
    "!rm data.* pig_*"
   ]
  },
  {
   "cell_type": "markdown",
   "metadata": {},
   "source": [
    "---"
   ]
  },
  {
   "cell_type": "markdown",
   "metadata": {},
   "source": [
    "Para realizar la evaluación automática de este libro:\n",
    "\n",
    "* Abra un Terminal.\n",
    "* Asegurece que esat en la misma carpeta que contiene este notebook.\n",
    "* Salve el notebook.\n",
    "* Ejecute el siguiente comando:\n",
    "\n",
    "      ./gradetool 06-Evaluacion.ipynb"
   ]
  },
  {
   "cell_type": "markdown",
   "metadata": {},
   "source": [
    "---"
   ]
  }
 ],
 "metadata": {
  "kernelspec": {
   "display_name": "Python 3",
   "language": "python",
   "name": "python3"
  },
  "language_info": {
   "codemirror_mode": {
    "name": "ipython",
    "version": 3
   },
   "file_extension": ".py",
   "mimetype": "text/x-python",
   "name": "python",
   "nbconvert_exporter": "python",
   "pygments_lexer": "ipython3",
   "version": "3.7.0"
  },
  "toc": {
   "base_numbering": 1,
   "nav_menu": {},
   "number_sections": false,
   "sideBar": true,
   "skip_h1_title": true,
   "title_cell": "Table of Contents",
   "title_sidebar": "Contents",
   "toc_cell": false,
   "toc_position": {},
   "toc_section_display": true,
   "toc_window_display": true
  },
  "toc-autonumbering": false
 },
 "nbformat": 4,
 "nbformat_minor": 2
}
